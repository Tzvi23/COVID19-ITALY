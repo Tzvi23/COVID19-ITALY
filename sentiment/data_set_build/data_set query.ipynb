{
 "cells": [
  {
   "cell_type": "code",
   "execution_count": 1,
   "metadata": {},
   "outputs": [],
   "source": [
    "import twint\n",
    "import pandas as pd"
   ]
  },
  {
   "cell_type": "code",
   "execution_count": 2,
   "metadata": {},
   "outputs": [],
   "source": [
    "query_excel = '/Users/tzvip/PycharmProjects/COVID19-SIR/sentiment/data_set_build/italy_timeline.xlsx'\n",
    "query_df = pd.read_excel(open(query_excel, 'rb'), sheet_name='search_queries')"
   ]
  },
  {
   "cell_type": "code",
   "execution_count": 3,
   "metadata": {},
   "outputs": [
    {
     "data": {
      "text/html": [
       "<div>\n",
       "<style scoped>\n",
       "    .dataframe tbody tr th:only-of-type {\n",
       "        vertical-align: middle;\n",
       "    }\n",
       "\n",
       "    .dataframe tbody tr th {\n",
       "        vertical-align: top;\n",
       "    }\n",
       "\n",
       "    .dataframe thead th {\n",
       "        text-align: right;\n",
       "    }\n",
       "</style>\n",
       "<table border=\"1\" class=\"dataframe\">\n",
       "  <thead>\n",
       "    <tr style=\"text-align: right;\">\n",
       "      <th></th>\n",
       "      <th>date</th>\n",
       "      <th>location</th>\n",
       "      <th>Geo</th>\n",
       "      <th>Radius</th>\n",
       "      <th>Description</th>\n",
       "    </tr>\n",
       "  </thead>\n",
       "  <tbody>\n",
       "    <tr>\n",
       "      <td>0</td>\n",
       "      <td>2020-01-31</td>\n",
       "      <td>Rome</td>\n",
       "      <td>41.902782,12.496365</td>\n",
       "      <td>15km</td>\n",
       "      <td>Location</td>\n",
       "    </tr>\n",
       "    <tr>\n",
       "      <td>1</td>\n",
       "      <td>2020-02-21</td>\n",
       "      <td>Veneto</td>\n",
       "      <td>45.735802,11.861790</td>\n",
       "      <td>82km</td>\n",
       "      <td>Location</td>\n",
       "    </tr>\n",
       "    <tr>\n",
       "      <td>2</td>\n",
       "      <td>2020-02-21</td>\n",
       "      <td>Casalpusterlengo</td>\n",
       "      <td>45.177811,9.650170</td>\n",
       "      <td>15km</td>\n",
       "      <td>Location</td>\n",
       "    </tr>\n",
       "    <tr>\n",
       "      <td>3</td>\n",
       "      <td>2020-02-21</td>\n",
       "      <td>Lombardy</td>\n",
       "      <td>45.657581,9.963600</td>\n",
       "      <td>100km</td>\n",
       "      <td>Location</td>\n",
       "    </tr>\n",
       "    <tr>\n",
       "      <td>4</td>\n",
       "      <td>2020-02-21</td>\n",
       "      <td>Milan</td>\n",
       "      <td>45.464203,9.189982</td>\n",
       "      <td>15km</td>\n",
       "      <td>Location</td>\n",
       "    </tr>\n",
       "    <tr>\n",
       "      <td>5</td>\n",
       "      <td>2020-02-21</td>\n",
       "      <td>Pavia</td>\n",
       "      <td>45.191652,9.172623</td>\n",
       "      <td>15km</td>\n",
       "      <td>Location</td>\n",
       "    </tr>\n",
       "    <tr>\n",
       "      <td>6</td>\n",
       "      <td>2020-02-21</td>\n",
       "      <td>Emilia-Romagna</td>\n",
       "      <td>44.551499,10.926799</td>\n",
       "      <td>100km</td>\n",
       "      <td>Location</td>\n",
       "    </tr>\n",
       "    <tr>\n",
       "      <td>7</td>\n",
       "      <td>2020-02-21</td>\n",
       "      <td>Piedmont</td>\n",
       "      <td>45.082506,7.919908</td>\n",
       "      <td>100km</td>\n",
       "      <td>Location</td>\n",
       "    </tr>\n",
       "    <tr>\n",
       "      <td>8</td>\n",
       "      <td>2020-02-22</td>\n",
       "      <td>Rome</td>\n",
       "      <td>41.902782,12.496365</td>\n",
       "      <td>500km</td>\n",
       "      <td>Event</td>\n",
       "    </tr>\n",
       "    <tr>\n",
       "      <td>9</td>\n",
       "      <td>2020-02-23</td>\n",
       "      <td>Crema</td>\n",
       "      <td>45.378779,9.682331</td>\n",
       "      <td>15km</td>\n",
       "      <td>Location</td>\n",
       "    </tr>\n",
       "    <tr>\n",
       "      <td>10</td>\n",
       "      <td>2020-02-23</td>\n",
       "      <td>Pavia</td>\n",
       "      <td>45.191652,9.172623</td>\n",
       "      <td>15km</td>\n",
       "      <td>Location</td>\n",
       "    </tr>\n",
       "    <tr>\n",
       "      <td>11</td>\n",
       "      <td>2020-02-24</td>\n",
       "      <td>Bergamo</td>\n",
       "      <td>45.692919,9.685191</td>\n",
       "      <td>15km</td>\n",
       "      <td>Location</td>\n",
       "    </tr>\n",
       "    <tr>\n",
       "      <td>12</td>\n",
       "      <td>2020-02-24</td>\n",
       "      <td>Codongo</td>\n",
       "      <td>45.163569,9.704778</td>\n",
       "      <td>15km</td>\n",
       "      <td>Location</td>\n",
       "    </tr>\n",
       "    <tr>\n",
       "      <td>13</td>\n",
       "      <td>2020-02-25</td>\n",
       "      <td>Como</td>\n",
       "      <td>45.808555,9.095428</td>\n",
       "      <td>15km</td>\n",
       "      <td>Location</td>\n",
       "    </tr>\n",
       "    <tr>\n",
       "      <td>14</td>\n",
       "      <td>2020-03-07</td>\n",
       "      <td>Rome</td>\n",
       "      <td>41.902782,12.496365</td>\n",
       "      <td>500km</td>\n",
       "      <td>Event</td>\n",
       "    </tr>\n",
       "    <tr>\n",
       "      <td>15</td>\n",
       "      <td>2020-03-08</td>\n",
       "      <td>Rome</td>\n",
       "      <td>41.902782,12.496365</td>\n",
       "      <td>500km</td>\n",
       "      <td>Event</td>\n",
       "    </tr>\n",
       "    <tr>\n",
       "      <td>16</td>\n",
       "      <td>2020-03-10</td>\n",
       "      <td>Rome</td>\n",
       "      <td>41.902782,12.496365</td>\n",
       "      <td>500km</td>\n",
       "      <td>Event</td>\n",
       "    </tr>\n",
       "    <tr>\n",
       "      <td>17</td>\n",
       "      <td>2020-04-05</td>\n",
       "      <td>Rome</td>\n",
       "      <td>41.902782,12.496365</td>\n",
       "      <td>500km</td>\n",
       "      <td>Event</td>\n",
       "    </tr>\n",
       "    <tr>\n",
       "      <td>18</td>\n",
       "      <td>2020-04-20</td>\n",
       "      <td>Rome</td>\n",
       "      <td>41.902782,12.496365</td>\n",
       "      <td>500km</td>\n",
       "      <td>Event</td>\n",
       "    </tr>\n",
       "  </tbody>\n",
       "</table>\n",
       "</div>"
      ],
      "text/plain": [
       "         date          location                   Geo Radius Description\n",
       "0  2020-01-31              Rome   41.902782,12.496365   15km    Location\n",
       "1  2020-02-21            Veneto  45.735802,11.861790    82km    Location\n",
       "2  2020-02-21  Casalpusterlengo    45.177811,9.650170   15km    Location\n",
       "3  2020-02-21         Lombardy     45.657581,9.963600  100km    Location\n",
       "4  2020-02-21             Milan    45.464203,9.189982   15km    Location\n",
       "5  2020-02-21             Pavia    45.191652,9.172623   15km    Location\n",
       "6  2020-02-21    Emilia-Romagna   44.551499,10.926799  100km    Location\n",
       "7  2020-02-21          Piedmont    45.082506,7.919908  100km    Location\n",
       "8  2020-02-22              Rome   41.902782,12.496365  500km       Event\n",
       "9  2020-02-23             Crema    45.378779,9.682331   15km    Location\n",
       "10 2020-02-23             Pavia    45.191652,9.172623   15km    Location\n",
       "11 2020-02-24           Bergamo    45.692919,9.685191   15km    Location\n",
       "12 2020-02-24           Codongo    45.163569,9.704778   15km    Location\n",
       "13 2020-02-25              Como    45.808555,9.095428   15km    Location\n",
       "14 2020-03-07              Rome   41.902782,12.496365  500km       Event\n",
       "15 2020-03-08              Rome   41.902782,12.496365  500km       Event\n",
       "16 2020-03-10              Rome   41.902782,12.496365  500km       Event\n",
       "17 2020-04-05              Rome   41.902782,12.496365  500km       Event\n",
       "18 2020-04-20              Rome   41.902782,12.496365  500km       Event"
      ]
     },
     "execution_count": 3,
     "metadata": {},
     "output_type": "execute_result"
    }
   ],
   "source": [
    "query_df"
   ]
  },
  {
   "cell_type": "code",
   "execution_count": 4,
   "metadata": {},
   "outputs": [
    {
     "name": "stdout",
     "output_type": "stream",
     "text": [
      "        date          location                   Geo Radius Description\n",
      "0 2020-01-31              Rome   41.902782,12.496365   15km    Location\n",
      "1 2020-02-21            Veneto  45.735802,11.861790    82km    Location\n",
      "2 2020-02-21  Casalpusterlengo    45.177811,9.650170   15km    Location\n",
      "3 2020-02-21         Lombardy     45.657581,9.963600  100km    Location\n",
      "4 2020-02-21             Milan    45.464203,9.189982   15km    Location\n"
     ]
    }
   ],
   "source": [
    "print(query_df.head())"
   ]
  },
  {
   "cell_type": "code",
   "execution_count": 5,
   "metadata": {},
   "outputs": [],
   "source": [
    "data_query = query_df.to_dict('split')['data']"
   ]
  },
  {
   "cell_type": "code",
   "execution_count": 6,
   "metadata": {},
   "outputs": [
    {
     "data": {
      "text/plain": [
       "[Timestamp('2020-01-31 00:00:00'),\n",
       " 'Rome',\n",
       " '41.902782,12.496365',\n",
       " '15km',\n",
       " 'Location']"
      ]
     },
     "execution_count": 6,
     "metadata": {},
     "output_type": "execute_result"
    }
   ],
   "source": [
    "data_query[0]"
   ]
  },
  {
   "cell_type": "code",
   "execution_count": 7,
   "metadata": {},
   "outputs": [
    {
     "name": "stdout",
     "output_type": "stream",
     "text": [
      "2020-01-31\n"
     ]
    }
   ],
   "source": [
    "date = data_query[0][0].date().strftime(\"%Y-%m-%d\")\n",
    "print(date)"
   ]
  },
  {
   "cell_type": "code",
   "execution_count": 8,
   "metadata": {},
   "outputs": [
    {
     "name": "stdout",
     "output_type": "stream",
     "text": [
      "41.902782,12.496365,15km\n"
     ]
    }
   ],
   "source": [
    "location = data_query[0][2] + ',' + data_query[0][3]\n",
    "print(location)"
   ]
  },
  {
   "cell_type": "code",
   "execution_count": 9,
   "metadata": {},
   "outputs": [
    {
     "name": "stdout",
     "output_type": "stream",
     "text": [
      "Location_Rome_2020_01_31.csv\n"
     ]
    }
   ],
   "source": [
    "fileName = data_query[0][4] +'_' + data_query[0][1] + '_' + date.replace('-', '_') + '.csv'\n",
    "print(fileName)"
   ]
  },
  {
   "cell_type": "code",
   "execution_count": 10,
   "metadata": {},
   "outputs": [],
   "source": [
    "query_list = list()"
   ]
  },
  {
   "cell_type": "code",
   "execution_count": 11,
   "metadata": {},
   "outputs": [],
   "source": [
    "def create_query_dict(q_list, data_query, query_string):\n",
    "    for q in data_query:\n",
    "        single_query = dict()\n",
    "        date = q[0].date().strftime(\"%Y-%m-%d\")\n",
    "        single_query['query_search'] = query_string\n",
    "        single_query['date'] = date  # can be replaced with date\n",
    "        single_query['geo'] = q[2] + ',' + q[3]\n",
    "        single_query['fileName'] = q[4] +'_' + q[1] + '_' + date.replace('/', '_') + '.csv'\n",
    "        q_list.append(single_query)\n",
    "    return q_list"
   ]
  },
  {
   "cell_type": "code",
   "execution_count": 12,
   "metadata": {},
   "outputs": [
    {
     "data": {
      "text/plain": [
       "[{'query_search': 'coronavirus',\n",
       "  'date': '2020-01-31',\n",
       "  'geo': '41.902782,12.496365,15km',\n",
       "  'fileName': 'Location_Rome_2020-01-31.csv'},\n",
       " {'query_search': 'coronavirus',\n",
       "  'date': '2020-02-21',\n",
       "  'geo': '45.735802,11.861790 ,82km',\n",
       "  'fileName': 'Location_Veneto_2020-02-21.csv'},\n",
       " {'query_search': 'coronavirus',\n",
       "  'date': '2020-02-21',\n",
       "  'geo': '45.177811,9.650170,15km',\n",
       "  'fileName': 'Location_Casalpusterlengo_2020-02-21.csv'},\n",
       " {'query_search': 'coronavirus',\n",
       "  'date': '2020-02-21',\n",
       "  'geo': '45.657581,9.963600,100km',\n",
       "  'fileName': 'Location_Lombardy _2020-02-21.csv'},\n",
       " {'query_search': 'coronavirus',\n",
       "  'date': '2020-02-21',\n",
       "  'geo': '45.464203,9.189982,15km',\n",
       "  'fileName': 'Location_Milan_2020-02-21.csv'},\n",
       " {'query_search': 'coronavirus',\n",
       "  'date': '2020-02-21',\n",
       "  'geo': '45.191652,9.172623,15km',\n",
       "  'fileName': 'Location_Pavia_2020-02-21.csv'},\n",
       " {'query_search': 'coronavirus',\n",
       "  'date': '2020-02-21',\n",
       "  'geo': '44.551499,10.926799,100km',\n",
       "  'fileName': 'Location_Emilia-Romagna_2020-02-21.csv'},\n",
       " {'query_search': 'coronavirus',\n",
       "  'date': '2020-02-21',\n",
       "  'geo': '45.082506,7.919908,100km',\n",
       "  'fileName': 'Location_Piedmont_2020-02-21.csv'},\n",
       " {'query_search': 'coronavirus',\n",
       "  'date': '2020-02-22',\n",
       "  'geo': '41.902782,12.496365,500km',\n",
       "  'fileName': 'Event_Rome_2020-02-22.csv'},\n",
       " {'query_search': 'coronavirus',\n",
       "  'date': '2020-02-23',\n",
       "  'geo': '45.378779,9.682331,15km',\n",
       "  'fileName': 'Location_Crema_2020-02-23.csv'},\n",
       " {'query_search': 'coronavirus',\n",
       "  'date': '2020-02-23',\n",
       "  'geo': '45.191652,9.172623,15km',\n",
       "  'fileName': 'Location_Pavia_2020-02-23.csv'},\n",
       " {'query_search': 'coronavirus',\n",
       "  'date': '2020-02-24',\n",
       "  'geo': '45.692919,9.685191,15km',\n",
       "  'fileName': 'Location_Bergamo_2020-02-24.csv'},\n",
       " {'query_search': 'coronavirus',\n",
       "  'date': '2020-02-24',\n",
       "  'geo': '45.163569,9.704778,15km',\n",
       "  'fileName': 'Location_Codongo_2020-02-24.csv'},\n",
       " {'query_search': 'coronavirus',\n",
       "  'date': '2020-02-25',\n",
       "  'geo': '45.808555,9.095428,15km',\n",
       "  'fileName': 'Location_Como_2020-02-25.csv'},\n",
       " {'query_search': 'coronavirus',\n",
       "  'date': '2020-03-07',\n",
       "  'geo': '41.902782,12.496365,500km',\n",
       "  'fileName': 'Event_Rome_2020-03-07.csv'},\n",
       " {'query_search': 'coronavirus',\n",
       "  'date': '2020-03-08',\n",
       "  'geo': '41.902782,12.496365,500km',\n",
       "  'fileName': 'Event_Rome_2020-03-08.csv'},\n",
       " {'query_search': 'coronavirus',\n",
       "  'date': '2020-03-10',\n",
       "  'geo': '41.902782,12.496365,500km',\n",
       "  'fileName': 'Event_Rome_2020-03-10.csv'},\n",
       " {'query_search': 'coronavirus',\n",
       "  'date': '2020-04-05',\n",
       "  'geo': '41.902782,12.496365,500km',\n",
       "  'fileName': 'Event_Rome_2020-04-05.csv'},\n",
       " {'query_search': 'coronavirus',\n",
       "  'date': '2020-04-20',\n",
       "  'geo': '41.902782,12.496365,500km',\n",
       "  'fileName': 'Event_Rome_2020-04-20.csv'}]"
      ]
     },
     "execution_count": 12,
     "metadata": {},
     "output_type": "execute_result"
    }
   ],
   "source": [
    "create_query_dict(query_list, data_query, 'coronavirus')"
   ]
  },
  {
   "cell_type": "code",
   "execution_count": null,
   "metadata": {},
   "outputs": [],
   "source": []
  }
 ],
 "metadata": {
  "kernelspec": {
   "display_name": "Python 3",
   "language": "python",
   "name": "python3"
  },
  "language_info": {
   "codemirror_mode": {
    "name": "ipython",
    "version": 3
   },
   "file_extension": ".py",
   "mimetype": "text/x-python",
   "name": "python",
   "nbconvert_exporter": "python",
   "pygments_lexer": "ipython3",
   "version": "3.7.4"
  }
 },
 "nbformat": 4,
 "nbformat_minor": 2
}
