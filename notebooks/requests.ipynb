{
 "cells": [
  {
   "cell_type": "markdown",
   "metadata": {},
   "source": [
    "## API: https://corona.lmao.ninja/docs/"
   ]
  },
  {
   "cell_type": "code",
   "execution_count": 1,
   "metadata": {},
   "outputs": [],
   "source": [
    "import requests\n",
    "import datetime\n",
    "import os\n",
    "import csv\n",
    "import pandas as pd"
   ]
  },
  {
   "cell_type": "code",
   "execution_count": 2,
   "metadata": {},
   "outputs": [],
   "source": [
    "def get_time():\n",
    "    date = datetime.datetime.now()\n",
    "    return date.strftime('%x').replace('/', '_')"
   ]
  },
  {
   "cell_type": "code",
   "execution_count": 3,
   "metadata": {},
   "outputs": [],
   "source": [
    "class request:\n",
    "    def __init__(self, name=get_time()):\n",
    "        self.name = name\n",
    "        self.base = 'https://corona.lmao.ninja/'  # API - endpoint\n",
    "        self.URL = None\n",
    "        self.response = None\n",
    "        self.data = None\n",
    "        self.df = None\n",
    "\n",
    "    def create_historical_country_request(self, countryName, daysBack=30):\n",
    "        \"\"\"\n",
    "        Creates a request for historical data for specific country\n",
    "        for specific duration. Default set to 30 days\n",
    "        \"\"\"\n",
    "        historical_country = f'v2/historical/{countryName}?lastdays={daysBack}'\n",
    "        self.URL = self.base + historical_country\n",
    "        self.print_url()\n",
    "\n",
    "    def create_historical_all_request(self, daysBack=30):\n",
    "        \"\"\"\n",
    "        Creates a request for historical data for all countries for specific duration.\n",
    "        Default set to 30 days\n",
    "        \"\"\"\n",
    "        historical_all = f'v2/historical?lastdays={daysBack}'\n",
    "        self.URL = self.base + historical_all\n",
    "        self.print_url()\n",
    "\n",
    "    def send_request(self):\n",
    "        \"\"\"\n",
    "        Sends the request and stores the data in self.data as DICT\n",
    "        \"\"\"\n",
    "        self.response = requests.get(url=self.URL)\n",
    "        print(f'Request result: {self.response}')\n",
    "        self.df = pd.read_json(self.response.text)\n",
    "        self.data = self.response.json()\n",
    "\n",
    "    def print_url(self):\n",
    "        \"\"\"\n",
    "        Prints the url when the request is created\n",
    "        \"\"\"\n",
    "        print(f'URL set to: {self.URL}')\n",
    "\n",
    "    def output_data(self):\n",
    "        parent = os.path.sep.join(os.getcwd().split(os.path.sep)[:-1])  # Get parent folder\n",
    "        output_path_dir = os.path.join(os.path.join(parent, 'output'))  # ./data_func/output\n",
    "        if not os.path.exists(output_path_dir):  # check if output folder exists\n",
    "            os.mkdir(output_path_dir)  # If not create output folder\n",
    "        country_dir = os.path.join(output_path_dir, self.data['country'])  # ./data_func/output/Israel\n",
    "        if not os.path.exists(country_dir):  # check if country folder exists\n",
    "            os.mkdir(country_dir)\n",
    "        timeline_dir = os.path.join(country_dir, 'timeline')  # ./data_func/output/Israel/timeline\n",
    "        if not os.path.exists(timeline_dir):\n",
    "            os.mkdir(timeline_dir)\n",
    "\n",
    "        for sir in self.data['timeline'].items():\n",
    "            with open(os.path.join(timeline_dir, f'{sir[0]}_{self.name}.csv'), 'w') as output_file:\n",
    "                header = ['date', 'value']\n",
    "                dict_writer = csv.DictWriter(output_file, fieldnames=header)\n",
    "\n",
    "                dict_writer.writeheader()\n",
    "                for k, v in sir[1].items():\n",
    "                    dict_writer.writerow({'date': k, 'value': v})"
   ]
  }
 ],
 "metadata": {
  "kernelspec": {
   "display_name": "Python 3",
   "language": "python",
   "name": "python3"
  },
  "language_info": {
   "codemirror_mode": {
    "name": "ipython",
    "version": 3
   },
   "file_extension": ".py",
   "mimetype": "text/x-python",
   "name": "python",
   "nbconvert_exporter": "python",
   "pygments_lexer": "ipython3",
   "version": "3.7.4"
  }
 },
 "nbformat": 4,
 "nbformat_minor": 2
}
