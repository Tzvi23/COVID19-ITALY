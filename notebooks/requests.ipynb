{
 "cells": [
  {
   "cell_type": "markdown",
   "metadata": {},
   "source": [
    "## API: https://corona.lmao.ninja/docs/"
   ]
  },
  {
   "cell_type": "code",
   "execution_count": 1,
   "metadata": {},
   "outputs": [],
   "source": [
    "import requests\n",
    "import datetime"
   ]
  },
  {
   "cell_type": "code",
   "execution_count": 2,
   "metadata": {},
   "outputs": [],
   "source": [
    "def get_time():\n",
    "    date = datetime.datetime.now()\n",
    "    return date.strftime('%x_%X')"
   ]
  },
  {
   "cell_type": "code",
   "execution_count": 3,
   "metadata": {},
   "outputs": [],
   "source": [
    "class request:\n",
    "    def __init__(self, name=get_time()):\n",
    "        self.name = name\n",
    "        self.base = 'https://corona.lmao.ninja/'  # API - endpoint\n",
    "        self.URL = None\n",
    "        self.response = None\n",
    "        self.data = None\n",
    "\n",
    "    def create_historical_country_request(self, countryName, daysBack=30):\n",
    "        \"\"\"\n",
    "        Creates a request for historical data for specific country\n",
    "        for specific duration. Default set to 30 days\n",
    "        \"\"\"\n",
    "        historical_country = f'v2/historical/{countryName}?lastdays={daysBack}'\n",
    "        self.URL = self.base + historical_country\n",
    "        self.print_url()\n",
    "\n",
    "    def create_historical_all_request(self, daysBack=30):\n",
    "        \"\"\"\n",
    "        Creates a request for historical data for all countries for specific duration.\n",
    "        Default set to 30 days\n",
    "        \"\"\"\n",
    "        historical_all = f'v2/historical?lastdays={daysBack}'\n",
    "        self.URL = self.base + historical_all\n",
    "        self.print_url()\n",
    "\n",
    "    def send_request(self):\n",
    "        \"\"\"\n",
    "        Sends the request and stores the data in self.data as DICT\n",
    "        \"\"\"\n",
    "        self.response = requests.get(url=self.URL)\n",
    "        print(f'Request result: {self.response}')\n",
    "        self.data = self.response.json()\n",
    "\n",
    "    def print_url(self):\n",
    "        \"\"\"\n",
    "        Prints the url when the request is created\n",
    "        \"\"\"\n",
    "        print(f'URL set to: {self.URL}')"
   ]
  }
 ],
 "metadata": {
  "kernelspec": {
   "display_name": "Python 3",
   "language": "python",
   "name": "python3"
  },
  "language_info": {
   "codemirror_mode": {
    "name": "ipython",
    "version": 3
   },
   "file_extension": ".py",
   "mimetype": "text/x-python",
   "name": "python",
   "nbconvert_exporter": "python",
   "pygments_lexer": "ipython3",
   "version": "3.7.4"
  }
 },
 "nbformat": 4,
 "nbformat_minor": 2
}
