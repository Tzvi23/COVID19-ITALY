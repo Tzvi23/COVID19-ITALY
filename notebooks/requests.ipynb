{
 "cells": [
  {
   "cell_type": "markdown",
   "metadata": {},
   "source": [
    "## API: https://corona.lmao.ninja/docs/"
   ]
  },
  {
   "cell_type": "code",
   "execution_count": 1,
   "metadata": {},
   "outputs": [],
   "source": [
    "import requests\n",
    "import datetime\n",
    "import os\n",
    "import csv\n",
    "import pandas as pd\n",
    "import pickle"
   ]
  },
  {
   "cell_type": "code",
   "execution_count": 2,
   "metadata": {},
   "outputs": [],
   "source": [
    "def get_time():\n",
    "    date = datetime.datetime.now()\n",
    "    return date.strftime('%x').replace('/', '_')"
   ]
  },
  {
   "cell_type": "code",
   "execution_count": 3,
   "metadata": {},
   "outputs": [],
   "source": [
    "def load_obj(date, country=None):\n",
    "    \"\"\"\n",
    "    Loads existing pickle file to obj.\n",
    "    :param date: search by date string format: 'DD_MM_YY'\n",
    "    :param country: If country supplied will look in the output folder for specific country dir\n",
    "    :return: load pickle file to variable\n",
    "    \"\"\"\n",
    "    # Define paths\n",
    "    parent = os.path.sep.join(os.getcwd().split(os.path.sep)[:-1])  # Get parent folder\n",
    "    output_path = os.path.join(os.path.join(parent, 'output'))\n",
    "    history_path = os.path.join(output_path, 'all_history')\n",
    "    # Load data\n",
    "    if country is None:  # If country was not supplied means all history request\n",
    "        for files in os.listdir(history_path):\n",
    "            if files.replace('.pickle', '') == date:\n",
    "                with open(os.path.join(history_path, files), 'rb') as load_file:\n",
    "                    return pickle.load(load_file)\n",
    "    else:\n",
    "        for r, d, f in os.walk(output_path):\n",
    "            print(f'root: {f}, dir: {d}, file:{f}')\n",
    "            if (len(r) and country in r) and (len(f) and date + '.pickle' in f):\n",
    "                with open(os.path.join(r, date + '.pickle'), 'rb') as load_file:\n",
    "                    return pickle.load(load_file)\n",
    "    print(f'{date}.pickle not found!')"
   ]
  },
  {
   "cell_type": "code",
   "execution_count": 4,
   "metadata": {},
   "outputs": [],
   "source": [
    "class request:\n",
    "    def __init__(self, name=get_time()):\n",
    "        self.name = name\n",
    "        self.base = 'https://corona.lmao.ninja/'  # API - endpoint\n",
    "        self.timePeriod = None\n",
    "        self.country = None\n",
    "        self.URL = None\n",
    "        self.response = None\n",
    "        self.data = None\n",
    "        self.df = None\n",
    "\n",
    "    def create_historical_country_request(self, countryName, daysBack=30):\n",
    "        \"\"\"\n",
    "        Creates a request for historical data for specific country\n",
    "        for specific duration. Default set to 30 days\n",
    "        \"\"\"\n",
    "        historical_country = f'v2/historical/{countryName}?lastdays={daysBack}'\n",
    "        self.URL = self.base + historical_country\n",
    "        self.timePeriod = daysBack\n",
    "        self.country = countryName\n",
    "        self.print_url()\n",
    "\n",
    "    def create_historical_all_request(self, daysBack=30):\n",
    "        \"\"\"\n",
    "        Creates a request for historical data for all countries for specific duration.\n",
    "        Default set to 30 days\n",
    "        \"\"\"\n",
    "        historical_all = f'v2/historical?lastdays={daysBack}'\n",
    "        self.URL = self.base + historical_all\n",
    "        self.timePeriod = daysBack\n",
    "        self.print_url()\n",
    "\n",
    "    def send_request(self):\n",
    "        \"\"\"\n",
    "        Sends the request and stores the data in self.data as DICT\n",
    "        \"\"\"\n",
    "        self.response = requests.get(url=self.URL)\n",
    "        print(f'Request result: {self.response}')\n",
    "        self.df = pd.read_json(self.response.text)\n",
    "        self.data = self.response.json()\n",
    "\n",
    "    def print_url(self):\n",
    "        \"\"\"\n",
    "        Prints the url when the request is created\n",
    "        \"\"\"\n",
    "        print(f'URL set to: {self.URL}')\n",
    "\n",
    "    def output_data(self):\n",
    "        parent = os.path.sep.join(os.getcwd().split(os.path.sep)[:-1])  # Get parent folder\n",
    "        output_path_dir = os.path.join(os.path.join(parent, 'output'))  # ./data_func/output\n",
    "        if not os.path.exists(output_path_dir):  # check if output folder exists\n",
    "            os.mkdir(output_path_dir)  # If not create output folder\n",
    "        country_dir = os.path.join(output_path_dir, self.data['country'])  # ./data_func/output/Israel\n",
    "        if not os.path.exists(country_dir):  # check if country folder exists\n",
    "            os.mkdir(country_dir)\n",
    "        # timeline_dir = os.path.join(country_dir, 'timeline')  # ./data_func/output/Israel/timeline\n",
    "        # if not os.path.exists(timeline_dir):\n",
    "        #     os.mkdir(timeline_dir)\n",
    "\n",
    "        for sir in self.data['timeline'].items():\n",
    "            with open(os.path.join(country_dir, f'{sir[0]}_{self.name}.csv'), 'w') as output_file:\n",
    "                header = ['date', 'value']\n",
    "                dict_writer = csv.DictWriter(output_file, fieldnames=header)\n",
    "\n",
    "                dict_writer.writeheader()\n",
    "                for k, v in sir[1].items():\n",
    "                    dict_writer.writerow({'date': k, 'value': v})\n",
    "\n",
    "    def save_obj(self):\n",
    "        \"\"\"\n",
    "        Saves the created class to pickle file named as the class name.\n",
    "        The path is set to ./output/all_history as default.\n",
    "        If country specified in the class the path is set ot ./output/{country_name}\n",
    "        \"\"\"\n",
    "        parent = os.path.sep.join(os.getcwd().split(os.path.sep)[:-1])  # Get parent folder\n",
    "        output_path_dir = os.path.join(os.path.join(parent, 'output'))  # ./data_func/output\n",
    "        if not os.path.exists(output_path_dir):  # check if output folder exists\n",
    "            os.mkdir(output_path_dir)  # If not create output folder\n",
    "        history_path = os.path.join(output_path_dir, 'all_history')  # ./data_func/output/all_history\n",
    "        if self.country is not None:\n",
    "            history_path = os.path.join(output_path_dir, self.country)\n",
    "        if not os.path.exists(history_path):\n",
    "            os.mkdir(history_path)\n",
    "        # Save pickle obj\n",
    "        with open(os.path.join(history_path, self.name + '.pickle'), 'wb') as save_file:\n",
    "            pickle.dump(self, save_file)\n",
    "            print(f'Saved class: {self.name}.pickle to: {history_path}')\n",
    "        # Save Data frame as csv\n",
    "        with open(os.path.join(history_path, self.name + '.csv'), 'w') as save_file:\n",
    "            self.export_csv(os.path.join(history_path, self.name + '.csv'))\n",
    "\n",
    "    def export_csv(self, path):\n",
    "        if self.df is not None:\n",
    "            self.df.to_csv(path, index=False, header=True)\n",
    "            print(f'Saved class: {self.name}.csv to: {history_path}')"
   ]
  },
  {
   "cell_type": "code",
   "execution_count": 5,
   "metadata": {},
   "outputs": [
    {
     "name": "stdout",
     "output_type": "stream",
     "text": [
      "URL set to: https://corona.lmao.ninja/v2/historical?lastdays=90\n",
      "Request result: <Response [200]>\n",
      "Saved class: 04_13_20.pickle to: /Users/tzvip/PycharmProjects/COVID19-SIR/output/all_history\n",
      "<__main__.request object at 0x11f269610>\n"
     ]
    }
   ],
   "source": [
    "\"\"\" Example \"\"\"\n",
    "# x = request()\n",
    "# x.create_historical_all_request(90)\n",
    "# x.send_request()\n",
    "# x.save_obj()\n",
    "# print(x)"
   ]
  }
 ],
 "metadata": {
  "kernelspec": {
   "display_name": "Python 3",
   "language": "python",
   "name": "python3"
  },
  "language_info": {
   "codemirror_mode": {
    "name": "ipython",
    "version": 3
   },
   "file_extension": ".py",
   "mimetype": "text/x-python",
   "name": "python",
   "nbconvert_exporter": "python",
   "pygments_lexer": "ipython3",
   "version": "3.7.4"
  }
 },
 "nbformat": 4,
 "nbformat_minor": 2
}
